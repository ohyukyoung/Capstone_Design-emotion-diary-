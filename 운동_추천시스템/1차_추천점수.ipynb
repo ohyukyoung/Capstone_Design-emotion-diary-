{
 "cells": [
  {
   "cell_type": "markdown",
   "metadata": {},
   "source": [
    "# 비만 데이터와 운동데이터를 이용한 1차 추천점수"
   ]
  },
  {
   "cell_type": "code",
   "execution_count": 78,
   "metadata": {},
   "outputs": [
    {
     "data": {
      "text/html": [
       "<div>\n",
       "<style scoped>\n",
       "    .dataframe tbody tr th:only-of-type {\n",
       "        vertical-align: middle;\n",
       "    }\n",
       "\n",
       "    .dataframe tbody tr th {\n",
       "        vertical-align: top;\n",
       "    }\n",
       "\n",
       "    .dataframe thead th {\n",
       "        text-align: right;\n",
       "    }\n",
       "</style>\n",
       "<table border=\"1\" class=\"dataframe\">\n",
       "  <thead>\n",
       "    <tr style=\"text-align: right;\">\n",
       "      <th></th>\n",
       "      <th>Weight</th>\n",
       "      <th>Age</th>\n",
       "      <th>Height</th>\n",
       "      <th>level</th>\n",
       "    </tr>\n",
       "  </thead>\n",
       "  <tbody>\n",
       "    <tr>\n",
       "      <th>0</th>\n",
       "      <td>64.0</td>\n",
       "      <td>21.0</td>\n",
       "      <td>1.62</td>\n",
       "      <td>2</td>\n",
       "    </tr>\n",
       "    <tr>\n",
       "      <th>1</th>\n",
       "      <td>56.0</td>\n",
       "      <td>21.0</td>\n",
       "      <td>1.52</td>\n",
       "      <td>2</td>\n",
       "    </tr>\n",
       "    <tr>\n",
       "      <th>2</th>\n",
       "      <td>77.0</td>\n",
       "      <td>23.0</td>\n",
       "      <td>1.80</td>\n",
       "      <td>2</td>\n",
       "    </tr>\n",
       "    <tr>\n",
       "      <th>3</th>\n",
       "      <td>87.0</td>\n",
       "      <td>27.0</td>\n",
       "      <td>1.80</td>\n",
       "      <td>3</td>\n",
       "    </tr>\n",
       "    <tr>\n",
       "      <th>4</th>\n",
       "      <td>89.8</td>\n",
       "      <td>22.0</td>\n",
       "      <td>1.78</td>\n",
       "      <td>3</td>\n",
       "    </tr>\n",
       "  </tbody>\n",
       "</table>\n",
       "</div>"
      ],
      "text/plain": [
       "   Weight   Age  Height  level\n",
       "0    64.0  21.0    1.62      2\n",
       "1    56.0  21.0    1.52      2\n",
       "2    77.0  23.0    1.80      2\n",
       "3    87.0  27.0    1.80      3\n",
       "4    89.8  22.0    1.78      3"
      ]
     },
     "execution_count": 78,
     "metadata": {},
     "output_type": "execute_result"
    }
   ],
   "source": [
    "# 비만데이터 불러오기\n",
    "\n",
    "import pandas as pd\n",
    "import numpy as np\n",
    "\n",
    "df_ob = pd.read_csv('./Obesti_WHA.csv', encoding='cp949')\n",
    "df_ob.head()"
   ]
  },
  {
   "cell_type": "code",
   "execution_count": 79,
   "metadata": {},
   "outputs": [
    {
     "data": {
      "text/html": [
       "<div>\n",
       "<style scoped>\n",
       "    .dataframe tbody tr th:only-of-type {\n",
       "        vertical-align: middle;\n",
       "    }\n",
       "\n",
       "    .dataframe tbody tr th {\n",
       "        vertical-align: top;\n",
       "    }\n",
       "\n",
       "    .dataframe thead th {\n",
       "        text-align: right;\n",
       "    }\n",
       "</style>\n",
       "<table border=\"1\" class=\"dataframe\">\n",
       "  <thead>\n",
       "    <tr style=\"text-align: right;\">\n",
       "      <th></th>\n",
       "      <th>exercise</th>\n",
       "      <th>Calories per kg</th>\n",
       "      <th>level</th>\n",
       "    </tr>\n",
       "  </thead>\n",
       "  <tbody>\n",
       "    <tr>\n",
       "      <th>0</th>\n",
       "      <td>Cycling, mountain bike, bmx</td>\n",
       "      <td>1.750730</td>\n",
       "      <td>3</td>\n",
       "    </tr>\n",
       "    <tr>\n",
       "      <th>1</th>\n",
       "      <td>Cycling, &lt;10 mph, leisure bicycling</td>\n",
       "      <td>0.823236</td>\n",
       "      <td>1</td>\n",
       "    </tr>\n",
       "    <tr>\n",
       "      <th>2</th>\n",
       "      <td>Cycling, &gt;20 mph, racing</td>\n",
       "      <td>3.294974</td>\n",
       "      <td>4</td>\n",
       "    </tr>\n",
       "    <tr>\n",
       "      <th>3</th>\n",
       "      <td>Cycling, 10-11.9 mph, light</td>\n",
       "      <td>1.234853</td>\n",
       "      <td>3</td>\n",
       "    </tr>\n",
       "    <tr>\n",
       "      <th>4</th>\n",
       "      <td>Cycling, 12-13.9 mph, moderate</td>\n",
       "      <td>1.647825</td>\n",
       "      <td>3</td>\n",
       "    </tr>\n",
       "  </tbody>\n",
       "</table>\n",
       "</div>"
      ],
      "text/plain": [
       "                              exercise  Calories per kg  level\n",
       "0          Cycling, mountain bike, bmx         1.750730      3\n",
       "1  Cycling, <10 mph, leisure bicycling         0.823236      1\n",
       "2             Cycling, >20 mph, racing         3.294974      4\n",
       "3          Cycling, 10-11.9 mph, light         1.234853      3\n",
       "4       Cycling, 12-13.9 mph, moderate         1.647825      3"
      ]
     },
     "execution_count": 79,
     "metadata": {},
     "output_type": "execute_result"
    }
   ],
   "source": [
    "# 운동데이터 불러오기\n",
    "\n",
    "df_ex = pd.read_csv('./exercise_level.csv')\n",
    "df_ex.head()"
   ]
  },
  {
   "cell_type": "code",
   "execution_count": 80,
   "metadata": {},
   "outputs": [
    {
     "name": "stdout",
     "output_type": "stream",
     "text": [
      "exercise  Cycling, mountain bike, bmx  Cycling, <10 mph, leisure bicycling   \n",
      "0                                 3.0                                  3.0  \\\n",
      "1                                 3.0                                  3.0   \n",
      "2                                 3.0                                  3.0   \n",
      "3                                 4.0                                  2.0   \n",
      "4                                 4.0                                  2.0   \n",
      "...                               ...                                  ...   \n",
      "2106                              3.0                                  1.0   \n",
      "2107                              3.0                                  1.0   \n",
      "2108                              3.0                                  1.0   \n",
      "2109                              3.0                                  1.0   \n",
      "2110                              3.0                                  1.0   \n",
      "\n",
      "exercise  Cycling, >20 mph, racing  Cycling, 10-11.9 mph, light   \n",
      "0                              2.0                          3.0  \\\n",
      "1                              2.0                          3.0   \n",
      "2                              2.0                          3.0   \n",
      "3                              3.0                          4.0   \n",
      "4                              3.0                          4.0   \n",
      "...                            ...                          ...   \n",
      "2106                           4.0                          3.0   \n",
      "2107                           4.0                          3.0   \n",
      "2108                           4.0                          3.0   \n",
      "2109                           4.0                          3.0   \n",
      "2110                           4.0                          3.0   \n",
      "\n",
      "exercise  Cycling, 12-13.9 mph, moderate  Cycling, 14-15.9 mph, vigorous   \n",
      "0                                    3.0                             4.0  \\\n",
      "1                                    3.0                             4.0   \n",
      "2                                    3.0                             4.0   \n",
      "3                                    4.0                             3.0   \n",
      "4                                    4.0                             3.0   \n",
      "...                                  ...                             ...   \n",
      "2106                                 3.0                             2.0   \n",
      "2107                                 3.0                             2.0   \n",
      "2108                                 3.0                             2.0   \n",
      "2109                                 3.0                             2.0   \n",
      "2110                                 3.0                             2.0   \n",
      "\n",
      "exercise  Cycling, 16-19 mph, very fast, racing  Unicycling   \n",
      "0                                           4.0         3.0  \\\n",
      "1                                           4.0         3.0   \n",
      "2                                           4.0         3.0   \n",
      "3                                           3.0         2.0   \n",
      "4                                           3.0         2.0   \n",
      "...                                         ...         ...   \n",
      "2106                                        2.0         1.0   \n",
      "2107                                        2.0         1.0   \n",
      "2108                                        2.0         1.0   \n",
      "2109                                        2.0         1.0   \n",
      "2110                                        2.0         1.0   \n",
      "\n",
      "exercise  Stationary cycling, very light  Stationary cycling, light  ...   \n",
      "0                                    3.0                        3.0  ...  \\\n",
      "1                                    3.0                        3.0  ...   \n",
      "2                                    3.0                        3.0  ...   \n",
      "3                                    2.0                        4.0  ...   \n",
      "4                                    2.0                        4.0  ...   \n",
      "...                                  ...                        ...  ...   \n",
      "2106                                 1.0                        3.0  ...   \n",
      "2107                                 1.0                        3.0  ...   \n",
      "2108                                 1.0                        3.0  ...   \n",
      "2109                                 1.0                        3.0  ...   \n",
      "2110                                 1.0                        3.0  ...   \n",
      "\n",
      "exercise  Watering lawn or garden  Weeding, cultivating garden   \n",
      "0                             3.0                          3.0  \\\n",
      "1                             3.0                          3.0   \n",
      "2                             3.0                          3.0   \n",
      "3                             2.0                          2.0   \n",
      "4                             2.0                          2.0   \n",
      "...                           ...                          ...   \n",
      "2106                          1.0                          1.0   \n",
      "2107                          1.0                          1.0   \n",
      "2108                          1.0                          1.0   \n",
      "2109                          1.0                          1.0   \n",
      "2110                          1.0                          1.0   \n",
      "\n",
      "exercise  Carpentry, general  Carrying heavy loads   \n",
      "0                        3.0                   3.0  \\\n",
      "1                        3.0                   3.0   \n",
      "2                        3.0                   3.0   \n",
      "3                        2.0                   4.0   \n",
      "4                        2.0                   4.0   \n",
      "...                      ...                   ...   \n",
      "2106                     1.0                   3.0   \n",
      "2107                     1.0                   3.0   \n",
      "2108                     1.0                   3.0   \n",
      "2109                     1.0                   3.0   \n",
      "2110                     1.0                   3.0   \n",
      "\n",
      "exercise  Carrying moderate loads upstairs  General cleaning   \n",
      "0                                      3.0               3.0  \\\n",
      "1                                      3.0               3.0   \n",
      "2                                      3.0               3.0   \n",
      "3                                      4.0               2.0   \n",
      "4                                      4.0               2.0   \n",
      "...                                    ...               ...   \n",
      "2106                                   3.0               1.0   \n",
      "2107                                   3.0               1.0   \n",
      "2108                                   3.0               1.0   \n",
      "2109                                   3.0               1.0   \n",
      "2110                                   3.0               1.0   \n",
      "\n",
      "exercise  Cleaning, dusting  Taking out trash  Walking, pushing a wheelchair   \n",
      "0                       3.0               3.0                            3.0  \\\n",
      "1                       3.0               3.0                            3.0   \n",
      "2                       3.0               3.0                            3.0   \n",
      "3                       2.0               2.0                            2.0   \n",
      "4                       2.0               2.0                            2.0   \n",
      "...                     ...               ...                            ...   \n",
      "2106                    1.0               1.0                            1.0   \n",
      "2107                    1.0               1.0                            1.0   \n",
      "2108                    1.0               1.0                            1.0   \n",
      "2109                    1.0               1.0                            1.0   \n",
      "2110                    1.0               1.0                            1.0   \n",
      "\n",
      "exercise  Teach physical education,exercise class  \n",
      "0                                             3.0  \n",
      "1                                             3.0  \n",
      "2                                             3.0  \n",
      "3                                             2.0  \n",
      "4                                             2.0  \n",
      "...                                           ...  \n",
      "2106                                          1.0  \n",
      "2107                                          1.0  \n",
      "2108                                          1.0  \n",
      "2109                                          1.0  \n",
      "2110                                          1.0  \n",
      "\n",
      "[2111 rows x 248 columns]\n"
     ]
    }
   ],
   "source": [
    "# user_item_matrix 생성\n",
    "user_item_matrix = []\n",
    "\n",
    "for _, user in df_ob.iterrows():\n",
    "    user_scores = []\n",
    "    \n",
    "    for _, exercise in df_ex.iterrows():\n",
    "        score = abs(user['level'] - exercise['level'])\n",
    "        score = max(4 - score ,0) # 점수가 음수가 되는 것을 방지하기 위해 최소값을 0으로 설정합니다.\n",
    "        user_scores.append(score)\n",
    "        \n",
    "    user_item_matrix.append(user_scores)\n",
    "\n",
    "user_item_matrix_df = pd.DataFrame(user_item_matrix,\n",
    "                                   columns=df_ex['exercise'],\n",
    "                                   index=df_ob.index)\n",
    "\n",
    "print(user_item_matrix_df)\n"
   ]
  },
  {
   "cell_type": "code",
   "execution_count": 81,
   "metadata": {},
   "outputs": [
    {
     "name": "stdout",
     "output_type": "stream",
     "text": [
      "exercise  Cycling, mountain bike, bmx  Cycling, <10 mph, leisure bicycling   \n",
      "0                            0.004032                             0.004032  \\\n",
      "1                            0.004032                             0.004032   \n",
      "2                            0.004032                             0.004032   \n",
      "3                            0.004032                             0.004032   \n",
      "4                            0.004032                             0.004032   \n",
      "...                               ...                                  ...   \n",
      "2106                         0.004032                             0.004032   \n",
      "2107                         0.004032                             0.004032   \n",
      "2108                         0.004032                             0.004032   \n",
      "2109                         0.004032                             0.004032   \n",
      "2110                         0.004032                             0.004032   \n",
      "\n",
      "exercise  Cycling, >20 mph, racing  Cycling, 10-11.9 mph, light   \n",
      "0                         0.004032                     0.004032  \\\n",
      "1                         0.004032                     0.004032   \n",
      "2                         0.004032                     0.004032   \n",
      "3                         0.004032                     0.004032   \n",
      "4                         0.004032                     0.004032   \n",
      "...                            ...                          ...   \n",
      "2106                      0.004032                     0.004032   \n",
      "2107                      0.004032                     0.004032   \n",
      "2108                      0.004032                     0.004032   \n",
      "2109                      0.004032                     0.004032   \n",
      "2110                      0.004032                     0.004032   \n",
      "\n",
      "exercise  Cycling, 12-13.9 mph, moderate  Cycling, 14-15.9 mph, vigorous   \n",
      "0                               0.004032                        0.004032  \\\n",
      "1                               0.004032                        0.004032   \n",
      "2                               0.004032                        0.004032   \n",
      "3                               0.004032                        0.004032   \n",
      "4                               0.004032                        0.004032   \n",
      "...                                  ...                             ...   \n",
      "2106                            0.004032                        0.004032   \n",
      "2107                            0.004032                        0.004032   \n",
      "2108                            0.004032                        0.004032   \n",
      "2109                            0.004032                        0.004032   \n",
      "2110                            0.004032                        0.004032   \n",
      "\n",
      "exercise  Cycling, 16-19 mph, very fast, racing  Unicycling   \n",
      "0                                      0.004032    0.004032  \\\n",
      "1                                      0.004032    0.004032   \n",
      "2                                      0.004032    0.004032   \n",
      "3                                      0.004032    0.004032   \n",
      "4                                      0.004032    0.004032   \n",
      "...                                         ...         ...   \n",
      "2106                                   0.004032    0.004032   \n",
      "2107                                   0.004032    0.004032   \n",
      "2108                                   0.004032    0.004032   \n",
      "2109                                   0.004032    0.004032   \n",
      "2110                                   0.004032    0.004032   \n",
      "\n",
      "exercise  Stationary cycling, very light  Stationary cycling, light  ...   \n",
      "0                               0.004032                   0.004032  ...  \\\n",
      "1                               0.004032                   0.004032  ...   \n",
      "2                               0.004032                   0.004032  ...   \n",
      "3                               0.004032                   0.004032  ...   \n",
      "4                               0.004032                   0.004032  ...   \n",
      "...                                  ...                        ...  ...   \n",
      "2106                            0.004032                   0.004032  ...   \n",
      "2107                            0.004032                   0.004032  ...   \n",
      "2108                            0.004032                   0.004032  ...   \n",
      "2109                            0.004032                   0.004032  ...   \n",
      "2110                            0.004032                   0.004032  ...   \n",
      "\n",
      "exercise  Watering lawn or garden  Weeding, cultivating garden   \n",
      "0                        0.004032                     0.004032  \\\n",
      "1                        0.004032                     0.004032   \n",
      "2                        0.004032                     0.004032   \n",
      "3                        0.004032                     0.004032   \n",
      "4                        0.004032                     0.004032   \n",
      "...                           ...                          ...   \n",
      "2106                     0.004032                     0.004032   \n",
      "2107                     0.004032                     0.004032   \n",
      "2108                     0.004032                     0.004032   \n",
      "2109                     0.004032                     0.004032   \n",
      "2110                     0.004032                     0.004032   \n",
      "\n",
      "exercise  Carpentry, general  Carrying heavy loads   \n",
      "0                   0.004032              0.004032  \\\n",
      "1                   0.004032              0.004032   \n",
      "2                   0.004032              0.004032   \n",
      "3                   0.004032              0.004032   \n",
      "4                   0.004032              0.004032   \n",
      "...                      ...                   ...   \n",
      "2106                0.004032              0.004032   \n",
      "2107                0.004032              0.004032   \n",
      "2108                0.004032              0.004032   \n",
      "2109                0.004032              0.004032   \n",
      "2110                0.004032              0.004032   \n",
      "\n",
      "exercise  Carrying moderate loads upstairs  General cleaning   \n",
      "0                                 0.004032          0.004032  \\\n",
      "1                                 0.004032          0.004032   \n",
      "2                                 0.004032          0.004032   \n",
      "3                                 0.004032          0.004032   \n",
      "4                                 0.004032          0.004032   \n",
      "...                                    ...               ...   \n",
      "2106                              0.004032          0.004032   \n",
      "2107                              0.004032          0.004032   \n",
      "2108                              0.004032          0.004032   \n",
      "2109                              0.004032          0.004032   \n",
      "2110                              0.004032          0.004032   \n",
      "\n",
      "exercise  Cleaning, dusting  Taking out trash  Walking, pushing a wheelchair   \n",
      "0                  0.004032          0.004032                       0.004032  \\\n",
      "1                  0.004032          0.004032                       0.004032   \n",
      "2                  0.004032          0.004032                       0.004032   \n",
      "3                  0.004032          0.004032                       0.004032   \n",
      "4                  0.004032          0.004032                       0.004032   \n",
      "...                     ...               ...                            ...   \n",
      "2106               0.004032          0.004032                       0.004032   \n",
      "2107               0.004032          0.004032                       0.004032   \n",
      "2108               0.004032          0.004032                       0.004032   \n",
      "2109               0.004032          0.004032                       0.004032   \n",
      "2110               0.004032          0.004032                       0.004032   \n",
      "\n",
      "exercise  Teach physical education,exercise class  \n",
      "0                                        0.004032  \n",
      "1                                        0.004032  \n",
      "2                                        0.004032  \n",
      "3                                        0.004032  \n",
      "4                                        0.004032  \n",
      "...                                           ...  \n",
      "2106                                     0.004032  \n",
      "2107                                     0.004032  \n",
      "2108                                     0.004032  \n",
      "2109                                     0.004032  \n",
      "2110                                     0.004032  \n",
      "\n",
      "[2111 rows x 248 columns]\n"
     ]
    }
   ],
   "source": [
    "# 사후확률 user_item_matrix를 위한 copy\n",
    "import copy\n",
    "\n",
    "# user_item_matrix 복사\n",
    "user_item_matrix_2 = copy.deepcopy(user_item_matrix_df)\n",
    "\n",
    "# user_item_matrix_2 초기화: 모든 확률 동일하게 설정\n",
    "for exercise in user_item_matrix_2.columns:\n",
    "    user_item_matrix_2[exercise] = 1 / len(user_item_matrix_2.columns)\n",
    "\n",
    "print(user_item_matrix_2)"
   ]
  },
  {
   "cell_type": "markdown",
   "metadata": {},
   "source": [
    "# SVD(특이값 분해 알고리즘)사용하여 특정 ID당 상위 10%와 하위 10%의 운동중 1가지씩 랜덤으로 추천하게끔 나머지는 그냥 랜덤\n",
    "# 처음 추천 시"
   ]
  },
  {
   "cell_type": "code",
   "execution_count": 82,
   "metadata": {},
   "outputs": [
    {
     "data": {
      "text/plain": [
       "<surprise.prediction_algorithms.matrix_factorization.SVD at 0x2636dda4bd0>"
      ]
     },
     "execution_count": 82,
     "metadata": {},
     "output_type": "execute_result"
    }
   ],
   "source": [
    "# Python Surprise 라이브러리를 사용하여 SVD 알고리즘을 적용하려면, 먼저 데이터를 Surprise 라이브러리가 인식할 수 있는 형태로 변환해야 함\n",
    "\n",
    "\n",
    "from surprise import Dataset, Reader, SVD\n",
    "from surprise.model_selection import train_test_split\n",
    "import random\n",
    "\n",
    "# Surprise 라이브러리에서 요구하는 데이터 형식으로 변환하기 위한 과정입니다.\n",
    "# userID와 ExerciseName을 문자열로 변환\n",
    "data = []\n",
    "for user_id in user_item_matrix_df.index:\n",
    "    for exercise_name in user_item_matrix_df.columns:\n",
    "        score = user_item_matrix_df.loc[user_id, exercise_name]\n",
    "        data.append((user_id, str(exercise_name), score))\n",
    "\n",
    "# Rating Scale은 추천 점수의 범위인 0~4입니다.\n",
    "reader = Reader(rating_scale=(0, 4))\n",
    "data = Dataset.load_from_df(pd.DataFrame(data, columns=[\"UserID\", \"ExerciseName\", \"Score\"]), reader)\n",
    "\n",
    "trainset = data.build_full_trainset()\n",
    "\n",
    "# SVD 모델 학습\n",
    "model = SVD()\n",
    "model.fit(trainset)\n",
    "\n",
    "# user-item matrix)을 Surprise 패키지가 요구하는 (user id, item id, rating) 형태의 리스트로 변환\n",
    "# 그 후 Reader 클래스를 이용하여 점수의 범위를 설정\n",
    "# Dataset.load_from_df() 함수로 데이터 프레임을 로드\n",
    "# 전체 데이터셋에 대해 학습을 진행"
   ]
  },
  {
   "cell_type": "code",
   "execution_count": 83,
   "metadata": {},
   "outputs": [
    {
     "name": "stdout",
     "output_type": "stream",
     "text": [
      "Number of users:  2111\n",
      "Number of items:  248\n"
     ]
    }
   ],
   "source": [
    "print('Number of users: ', trainset.n_users)\n",
    "print('Number of items: ', trainset.n_items)"
   ]
  },
  {
   "cell_type": "code",
   "execution_count": 84,
   "metadata": {},
   "outputs": [],
   "source": [
    "# userID가 6인 사용자에 대한 예측 결과\n",
    "testset = trainset.build_testset()\n",
    "testset_user6 = [x for x in testset if x[0] == 6]\n",
    "predictions = model.test(testset_user6)"
   ]
  },
  {
   "cell_type": "code",
   "execution_count": 85,
   "metadata": {},
   "outputs": [
    {
     "name": "stdout",
     "output_type": "stream",
     "text": [
      "Recommended exercise: Martial arts, kick boxing, Estimated score: 3.7771559494657105\n",
      "Recommended exercise: Running, 8 mph (7.5 min mile), Estimated score: 2.0383583202073767\n",
      "Recommended exercise: Tai chi, Estimated score: 3.008815926441795\n",
      "Recommended exercise: Walking, under 2.0 mph, very slow, Estimated score: 3.0135897815248747\n"
     ]
    }
   ],
   "source": [
    "# 상위 및 하위 10% 계산 \n",
    "top_10_percent_threshold = np.percentile([pred.est for pred in predictions], 90)\n",
    "bottom_10_percent_threshold = np.percentile([pred.est for pred in predictions], 10)\n",
    "\n",
    "# 상위 및 하위 예측 선택 \n",
    "top_preds = [pred for pred in predictions if pred.est >= top_10_percent_threshold]\n",
    "bottom_preds= [pred for pred in predictions if pred.est <= bottom_10_percent_threshold]\n",
    "\n",
    "random.shuffle(top_preds)\n",
    "random.shuffle(bottom_preds)\n",
    "\n",
    "recommendation_top1= top_preds[:1]\n",
    "recommendation_bottom1 = bottom_preds[:1]\n",
    "\n",
    "# 전체 예측 중에서 랜덤으로 두 개 선택\n",
    "random.shuffle(predictions)\n",
    "recommendations_random2 = predictions[:2]\n",
    "\n",
    "# 추천 목록 합치기\n",
    "recommendations = recommendation_top1 + recommendation_bottom1 + recommendations_random2\n",
    "\n",
    "for pred in recommendations:\n",
    "    print(f\"Recommended exercise: {pred.iid}, Estimated score: {pred.est}\")"
   ]
  },
  {
   "cell_type": "code",
   "execution_count": 86,
   "metadata": {},
   "outputs": [
    {
     "name": "stdout",
     "output_type": "stream",
     "text": [
      "['Martial arts, kick boxing', 'Running, 8 mph (7.5 min mile)', 'Tai chi', 'Walking, under 2.0 mph, very slow']\n"
     ]
    }
   ],
   "source": [
    "a = []\n",
    "for pred in recommendations:\n",
    "    # list에 차례로 집어넣기\n",
    "    a.append(pred.iid)\n",
    "print(a)"
   ]
  },
  {
   "cell_type": "code",
   "execution_count": 87,
   "metadata": {},
   "outputs": [],
   "source": [
    "# 사용자로부터 운동 선택 받기\n",
    "def get_choices(user_id):\n",
    "    choices = {}\n",
    "    for exercise in a:\n",
    "        choice = input(f\"Did you choose the exercise {exercise}? (yes/no): \")\n",
    "        if choice.lower() == 'yes':\n",
    "            if exercise in choices:\n",
    "                choices[exercise] += 1\n",
    "            else:\n",
    "                choices[exercise] = 1\n",
    "    return choices"
   ]
  },
  {
   "cell_type": "code",
   "execution_count": 88,
   "metadata": {},
   "outputs": [],
   "source": [
    "choices = {}\n",
    "choses_sum = 0\n",
    "for exercise in a:\n",
    "    choice = input(f\"Did you choose the exercise {exercise}? (yes/no): \")\n",
    "    if choice.lower() == 'yes':\n",
    "        choses_sum += 1\n",
    "        if exercise in choices:\n",
    "            choices[exercise] += 1\n",
    "        else:\n",
    "            choices[exercise] = 1"
   ]
  },
  {
   "cell_type": "code",
   "execution_count": 89,
   "metadata": {},
   "outputs": [
    {
     "name": "stdout",
     "output_type": "stream",
     "text": [
      "dict_values([1, 1, 1])\n"
     ]
    }
   ],
   "source": [
    "print(choices.values())"
   ]
  },
  {
   "cell_type": "code",
   "execution_count": 90,
   "metadata": {},
   "outputs": [
    {
     "name": "stdout",
     "output_type": "stream",
     "text": [
      "3\n"
     ]
    }
   ],
   "source": [
    "print(choses_sum)"
   ]
  },
  {
   "cell_type": "code",
   "execution_count": 91,
   "metadata": {},
   "outputs": [
    {
     "name": "stdout",
     "output_type": "stream",
     "text": [
      "dict_items([('Martial arts, kick boxing', 1), ('Running, 8 mph (7.5 min mile)', 1), ('Walking, under 2.0 mph, very slow', 1)])\n"
     ]
    }
   ],
   "source": [
    "print(choices.items())"
   ]
  },
  {
   "cell_type": "markdown",
   "metadata": {},
   "source": [
    "# user_item_matrix_2 업데이트: 선택된 운동에 대해 점수 증가\n",
    "def update_scores(user_id, choices):\n",
    "    total_choices = choses_sum\n",
    "    for exercise, count in choices.items():\n",
    "        old_score = user_item_matrix_2.loc[user_id, exercise]\n",
    "        print(old_score)\n",
    "        new_score = old_score + (count / total_choices)  # 비율에 따라 점수 증가\n",
    "        print(new_score)\n",
    "        user_item_matrix_2.loc[user_id, exercise] = new_score"
   ]
  },
  {
   "cell_type": "code",
   "execution_count": 92,
   "metadata": {},
   "outputs": [],
   "source": [
    "def update_scores(user_id, choices):\n",
    "    total_choices = sum(choices.values())\n",
    "    for exercise, count in choices.items():\n",
    "        # 사후확률 계산하여 업데이트\n",
    "        new_score = count / total_choices\n",
    "        user_item_matrix_2.loc[user_id, exercise] = new_score"
   ]
  },
  {
   "cell_type": "code",
   "execution_count": 93,
   "metadata": {},
   "outputs": [],
   "source": [
    "update_scores(6, choices)"
   ]
  },
  {
   "cell_type": "markdown",
   "metadata": {},
   "source": [
    "# 1번째 이후 추천"
   ]
  },
  {
   "cell_type": "code",
   "execution_count": 94,
   "metadata": {},
   "outputs": [
    {
     "name": "stdout",
     "output_type": "stream",
     "text": [
      "0.004032258064516129 0.3333333333333333\n"
     ]
    }
   ],
   "source": [
    "min_rating = user_item_matrix_2.min().min()\n",
    "max_rating = user_item_matrix_2.max().max()\n",
    "print(min_rating, max_rating)"
   ]
  },
  {
   "cell_type": "code",
   "execution_count": 96,
   "metadata": {},
   "outputs": [
    {
     "name": "stdout",
     "output_type": "stream",
     "text": [
      "RangeIndex(start=0, stop=2111, step=1)\n"
     ]
    }
   ],
   "source": [
    "#user_item_matrix_2 인덱스 확인\n",
    "print(user_item_matrix_2.index)"
   ]
  },
  {
   "cell_type": "code",
   "execution_count": 97,
   "metadata": {},
   "outputs": [
    {
     "name": "stdout",
     "output_type": "stream",
     "text": [
      "<built-in method index of list object at 0x000002637D880440>\n"
     ]
    }
   ],
   "source": [
    "print(user_item_matrix.index)"
   ]
  },
  {
   "cell_type": "code",
   "execution_count": 109,
   "metadata": {},
   "outputs": [
    {
     "name": "stdout",
     "output_type": "stream",
     "text": [
      "Index(['Cycling, <10 mph, leisure bicycling', 'Unicycling',\n",
      "       'Stationary cycling, very light', 'Calisthenics, light',\n",
      "       'Weight lifting, light workout', 'Rowing machine, light',\n",
      "       'Aerobics, low impact', 'Stretching, hatha yoga', 'Mild stretching',\n",
      "       'Water aerobics',\n",
      "       ...\n",
      "       'Gardening, general', 'Bagging grass, leaves',\n",
      "       'Watering lawn or garden', 'Weeding, cultivating garden',\n",
      "       'Carpentry, general', 'General cleaning', 'Cleaning, dusting',\n",
      "       'Taking out trash', 'Walking, pushing a wheelchair',\n",
      "       'Teach physical education,exercise class'],\n",
      "      dtype='object', name='exercise', length=105)\n"
     ]
    }
   ],
   "source": [
    "print(user_item_matrix_df.columns[user_item_matrix_df.loc[10] == 1])"
   ]
  },
  {
   "cell_type": "code",
   "execution_count": 101,
   "metadata": {},
   "outputs": [
    {
     "name": "stdout",
     "output_type": "stream",
     "text": [
      "exercise\n",
      "Cycling, mountain bike, bmx                3.0\n",
      "Cycling, <10 mph, leisure bicycling        3.0\n",
      "Cycling, >20 mph, racing                   2.0\n",
      "Cycling, 10-11.9 mph, light                3.0\n",
      "Cycling, 12-13.9 mph, moderate             3.0\n",
      "                                          ... \n",
      "General cleaning                           3.0\n",
      "Cleaning, dusting                          3.0\n",
      "Taking out trash                           3.0\n",
      "Walking, pushing a wheelchair              3.0\n",
      "Teach physical education,exercise class    3.0\n",
      "Name: 6, Length: 248, dtype: float64\n"
     ]
    }
   ],
   "source": [
    "print(user_item_matrix_df.loc[6])"
   ]
  },
  {
   "cell_type": "code",
   "execution_count": 121,
   "metadata": {},
   "outputs": [
    {
     "name": "stdout",
     "output_type": "stream",
     "text": [
      "['Running, 10.9 mph (5.5 min mile)', 'Mild stretching', 'Soccer, competitive', 'Crew, sculling, rowing, competition']\n"
     ]
    }
   ],
   "source": [
    "from surprise import SVD, Dataset, Reader\n",
    "from surprise.model_selection import train_test_split\n",
    "\n",
    "\n",
    "data_2 = []\n",
    "for user_id in user_item_matrix_2.index:\n",
    "    for exercise_name in user_item_matrix_2.columns:\n",
    "        score = user_item_matrix_2.loc[user_id, exercise_name]\n",
    "        data_2.append((user_id, str(exercise_name), score))\n",
    "# 데이터 로딩\n",
    "reader = Reader(rating_scale=(min_rating, max_rating)) # rating_scale: 평점의 최소값과 최대값을 지정\n",
    "data_2 = Dataset.load_from_df(pd.DataFrame(data_2, columns=[\"UserID\", \"ExerciseName\", \"Score\"]), reader)\n",
    "\n",
    "trainset = data.build_full_trainset()\n",
    "\n",
    "# SVD 알고리즘 사용\n",
    "algo = SVD()\n",
    "\n",
    "# 모델 학습\n",
    "algo.fit(trainset)\n",
    "\n",
    "def make_recommendation_after(user_id):\n",
    "\n",
    "    # userID가 6인 사용자에 대한 예측 결과\n",
    "    testset = trainset.build_testset()\n",
    "    testset_user6 = [x for x in testset if x[0] == user_id]\n",
    "    predictions = model.test(testset_user6)\n",
    "    \n",
    "    # user_item_matrix에서 rating 점수가 각각 1-2인 운동, 3인 운동, 4인 운동 중에서 랜덤으로 선택\n",
    "    ratings = [1, 2, 3, 4]\n",
    "    preper_from_each_rating = []\n",
    "   \n",
    "    \n",
    "    for rating in ratings:\n",
    "         exercises_with_this_ratings=user_item_matrix_df.columns[user_item_matrix_df.loc[user_id]==rating].tolist()\n",
    "         \n",
    "         if len(exercises_with_this_ratings)>0 :\n",
    "             selected_exercise=np.random.choice(exercises_with_this_ratings)\n",
    "             preper_from_each_rating.append(selected_exercise)\n",
    "\n",
    "    # 사후확률 top10%에 해당하는 운동 중에서 랜덤으로 1개 선택\n",
    "    top_10_percent_threshold = np.percentile([pred.est for pred in predictions], 90)\n",
    "\n",
    "    top_preds = [pred for pred in predictions if pred.est >= top_10_percent_threshold]\n",
    "\n",
    "    random.shuffle(top_preds)\n",
    "\n",
    "    recommendation_top1= [top_preds[0].iid]\n",
    "\n",
    "    # preper_from_each_rating과 recommendation_top1을 합쳐서 최종 추천 목록 생성\n",
    "    recommendations = preper_from_each_rating + recommendation_top1\n",
    "\n",
    "    return recommendations\n",
    "\n",
    "print(make_recommendation_after(6))"
   ]
  },
  {
   "cell_type": "code",
   "execution_count": 122,
   "metadata": {},
   "outputs": [
    {
     "data": {
      "text/plain": [
       "'Martial arts, kick boxing'"
      ]
     },
     "execution_count": 122,
     "metadata": {},
     "output_type": "execute_result"
    }
   ],
   "source": [
    "top_preds[0].iid"
   ]
  }
 ],
 "metadata": {
  "kernelspec": {
   "display_name": "Python 3",
   "language": "python",
   "name": "python3"
  },
  "language_info": {
   "codemirror_mode": {
    "name": "ipython",
    "version": 3
   },
   "file_extension": ".py",
   "mimetype": "text/x-python",
   "name": "python",
   "nbconvert_exporter": "python",
   "pygments_lexer": "ipython3",
   "version": "3.11.6"
  },
  "orig_nbformat": 4
 },
 "nbformat": 4,
 "nbformat_minor": 2
}
